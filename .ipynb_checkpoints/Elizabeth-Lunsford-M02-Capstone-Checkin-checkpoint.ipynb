{
 "cells": [
  {
   "cell_type": "markdown",
   "metadata": {},
   "source": [
    "# Milestone 2 Assignment - Capstone Check-in\n",
    "\n",
    "## Author - Elizabeth Lunsford"
   ]
  },
  {
   "cell_type": "markdown",
   "metadata": {},
   "source": [
    "### Capstone Project Instructions\n",
    "Select a problem and data sets of particular interest and apply the analytics process to find and report on a solution.\n",
    "\n",
    "Students will construct a simple dashboard to allow a non-technical user to explore their solution. The data should be read from a suitable persistent data storage, such as an Internet URL or a SQL data base.\n",
    "\n",
    "The process followed by the students and the grading criteria include:\n",
    "<ol style=\"list-style-type: lower-alpha;\">\n",
    "<li>Understand the business problem <span class=\"label\" style=\"border-radius: 3px; background-color: darkcyan; color: white;\">Milestone 1</span></li>\n",
    "<li>Evaluate and explore the available data <span class=\"label\" style=\"border-radius: 3px; background-color: darkcyan; color: white;\">Milestone 1</span></li>\n",
    "<li>Proper data preparation <span class=\"label\" style=\"border-radius: 3px; background-color: darkcyan; color: white;\">Milestone 1</span> <span class=\"label\" style=\"border-radius: 3px; background-color: royalblue; color: white;\">Milestone 2</span></li>\n",
    "<li>Exploration of data and understand relationships <span class=\"label\" style=\"border-radius: 3px; background-color: darkcyan; color: white;\">Milestone 1</span> <span class=\"label\" style=\"border-radius: 3px; background-color: royalblue; color: white;\">Milestone 2</span></li>\n",
    "<li>Perform basic analytics and machine learning, within the scope of the course, on the data.  <span class=\"label\" style=\"border-radius: 3px; background-color: royalblue; color: white;\">Milestone 2</span> <span class=\"label\" style=\"border-radius: 3px; background-color: slateblue; color: white;\">Milestone 3</span> <BR/>For example, classification to predict which employees are most likely to leave the company.</li>\n",
    "<li>Create a written and/or oral report on the results suitable for a non-technical audience. <span class=\"label\" style=\"border-radius: 3px; background-color: slateblue; color: white;\">Milestone 3</span></li>\n",
    "</ol>\n",
    "\n"
   ]
  },
  {
   "cell_type": "markdown",
   "metadata": {},
   "source": [
    "## Tasks\n",
    "<img src=\"https://library.startlearninglabs.uw.edu/DATASCI420/img/Milestone2Sample.PNG\" style=\"float: right; width: 400px;\">\n",
    "For this check-in, you are to:\n",
    "\n",
    "1). Explicitly state the problem, list sources, and define the methodology: classification, regression, other\n",
    "\n",
    "2). List data processing steps (psuedo code) including steps from data source collection & preparation, feature engineering & selection, modeling, performance evaluation.\n",
    "\n",
    "3). Read in the previously generated data file of cleaned up data\n",
    "\n",
    "4). Perform feature engineering and selection\n",
    "\n",
    "5). Conduct some preliminary modeling \n",
    "\n",
    "6). Identify potential machine learning model(s) to improve performance\n"
   ]
  },
  {
   "cell_type": "markdown",
   "metadata": {},
   "source": [
    "## Project Goal\n",
    "\n",
    "### Project Goal\n",
    "The goal of this project is to predict if a state votes for a Republican or Democratic candidiate.\n",
    "\n",
    "### Problem Statement\n",
    "How much does a state's social demographics influence how a state votes?  \n",
    " \n",
    "### Problem Definition\n",
    "Understanding how the United States of America is governed is a complex problem. Simply described as a democracy where people vote for elected officials is an overgeneralization for the constitutional federal republic which is governed by three branches; executive, legislative and judicial. The judicial branch ensures that implemented laws are in accordance with the constitution that can be either places by the executive or legislative branches.\n",
    "\n",
    "Each state has its own constitution and form of government that is also structured with executive, legislative and judicial branch. A republic is a form of government in which the people elect representatives. In the United States, people elect officials into the legislative branches based on popular vote. The Federal Executive branch which included the President and Vice President of the United States is elected by an electoral college. The electoral college mainly consists of two political parties; the Democratic and Republican Party\n",
    "\n",
    "The republic is not required to vote or align themselves to a political party. Therefore voter turnout is a dynamic variable and a state’s political majority can change at every election. To help understand how the United States is govern, we will study if social demographics have an influence on how people vote. Using Machine Learning Algorithms, we will create model to predict each state’s range of voter turnout and which party will be elected in federal elections.\n",
    "\n",
    "### List of Raw Data Sources\n",
    "* United States Presidential Election Results Data Set: \"https://uselectionatlas.org/RESULTS/\"\n",
    "* United States Legislative Branch Party Composition: https://www.kaggle.com/kiwiphrases/partystrengthbystate#states_party_strength_cleaned.csv\n",
    "* Employment / unemployment data: https://data.bls.gov/PDQWeb/la\n",
    "*  Poverty and income estimates data: https://www.census.gov/data-tools/demo/saipe/saipe.html?s_appName=saipe&menu=grid_proxy&s_USStOnly=y&map_yearSelector=2016&map_geoSelector=aa_c&s_measures=aa_snc\n",
    "* Education Spending per student, 2016 dollars, by state, 2007-2016, (Pre-K through 12): http://www.governing.com/gov-data/education-data/state-education-spending-per-pupil-data.html\n",
    "* National Public Education Financial Survey Data (Pre-K through 12):https://nces.ed.gov/ccd/stfis.asp\n",
    "\n",
    "### List of Data Sources from Milestone 1 to use for Milestone 2\n",
    "* political_data.csv - Election data\n",
    "* final_dataset.csv - Demographic data\n",
    "* state_edu_spending.csv - Educational Finance data\n",
    "\n",
    "### Methodology\n",
    "* Classification of if a state votes Republican or Democrat."
   ]
  },
  {
   "cell_type": "markdown",
   "metadata": {},
   "source": [
    "## Data Processing Steps\n",
    "###  List data processing steps (psuedo code) including steps from data source collection & preparation, feature engineering & selection, modeling, performance evaluation.\n",
    "1. Data Source Collection and Preparartion\n",
    " 1. Load three data files into dataframes\n",
    "    1. Process each dataframe to have the same names for state and year\n",
    "    1. Merge dataframes based on state and year\n",
    " 2. Analysis and Process combined dataframe\n",
    "    2. Drop duplicate entries, create key fields, and create flag field noting combine participation\n",
    "\n",
    "### Read in the previously generated data file of cleaned up data"
   ]
  },
  {
   "cell_type": "code",
   "execution_count": 3,
   "metadata": {},
   "outputs": [],
   "source": [
    "# Import libraries\n",
    "import pandas as pd\n",
    "import numpy as np\n",
    "\n",
    "df_p = pd.read_csv(\"political_data.csv\", header=0)\n",
    "df_d = pd.read_csv(\"final_dataset.csv\", header=0)\n",
    "df_e = pd.read_csv(\"state_edu_spending.csv\", header=0)"
   ]
  },
  {
   "cell_type": "markdown",
   "metadata": {},
   "source": [
    "## Feature Engineering and Selection"
   ]
  },
  {
   "cell_type": "code",
   "execution_count": null,
   "metadata": {
    "collapsed": true
   },
   "outputs": [],
   "source": [
    "# Data file location\n"
   ]
  },
  {
   "cell_type": "code",
   "execution_count": null,
   "metadata": {
    "collapsed": true
   },
   "outputs": [],
   "source": [
    "# Import libraries\n"
   ]
  },
  {
   "cell_type": "code",
   "execution_count": null,
   "metadata": {
    "collapsed": true
   },
   "outputs": [],
   "source": []
  },
  {
   "cell_type": "markdown",
   "metadata": {},
   "source": [
    "## Preliminary Data Model\n",
    "\n"
   ]
  },
  {
   "cell_type": "code",
   "execution_count": null,
   "metadata": {
    "collapsed": true
   },
   "outputs": [],
   "source": []
  },
  {
   "cell_type": "code",
   "execution_count": null,
   "metadata": {
    "collapsed": true
   },
   "outputs": [],
   "source": []
  },
  {
   "cell_type": "code",
   "execution_count": null,
   "metadata": {
    "collapsed": true
   },
   "outputs": [],
   "source": []
  },
  {
   "cell_type": "markdown",
   "metadata": {},
   "source": [
    "### Model Performance Evaluation"
   ]
  },
  {
   "cell_type": "code",
   "execution_count": null,
   "metadata": {
    "collapsed": true
   },
   "outputs": [],
   "source": []
  },
  {
   "cell_type": "markdown",
   "metadata": {},
   "source": [
    "## Improved Machine Learning Model(s)"
   ]
  },
  {
   "cell_type": "code",
   "execution_count": null,
   "metadata": {
    "collapsed": true
   },
   "outputs": [],
   "source": []
  }
 ],
 "metadata": {
  "kernelspec": {
   "display_name": "Python 3",
   "language": "python",
   "name": "python3"
  },
  "language_info": {
   "codemirror_mode": {
    "name": "ipython",
    "version": 3
   },
   "file_extension": ".py",
   "mimetype": "text/x-python",
   "name": "python",
   "nbconvert_exporter": "python",
   "pygments_lexer": "ipython3",
   "version": "3.6.3"
  }
 },
 "nbformat": 4,
 "nbformat_minor": 2
}
